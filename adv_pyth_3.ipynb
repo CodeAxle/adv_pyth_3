{
 "cells": [
  {
   "cell_type": "markdown",
   "id": "2601f261",
   "metadata": {},
   "source": [
    "# 1."
   ]
  },
  {
   "cell_type": "code",
   "execution_count": 1,
   "id": "bb47ace7",
   "metadata": {},
   "outputs": [],
   "source": [
    "# 1. TheAn abstract superclass, also known as an abstract base class (ABC) or simply an abstract class, is a class in \n",
    "#     object-oriented programming that cannot be instantiated on its own but serves as a blueprint for other classes. \n",
    "# 2. It is used to define common behavior and attributes that are shared among its subclasses. \n",
    "# 3. The concept of an abstract superclass is central to the idea of abstraction and inheritance in object-oriented \n",
    "#      programming."
   ]
  },
  {
   "cell_type": "markdown",
   "id": "a90c9cfb",
   "metadata": {},
   "source": [
    "# 2."
   ]
  },
  {
   "cell_type": "code",
   "execution_count": 2,
   "id": "1940350b",
   "metadata": {},
   "outputs": [],
   "source": [
    "# When a class statement's top level contains a basic assignment statement, it means that an instance variable or class variable\n",
    "#  is being defined at the class level. \n",
    "    \n",
    "# Here's what happens when such an assignment statement is encountered at the top level of a class:\n",
    "\n",
    "# a) Instance Variables:\n",
    "\n",
    "# i) If the assignment statement is inside a method of the class, it defines an instance variable for objects created from\n",
    "#      that class. Each object instance will have its own copy of the instance variable.\n",
    "# ii) If the assignment statement is outside of any method, directly inside the class but not inside a method or a nested class, it can be a class variable or an instance variable depending on how it's used.\n",
    "\n",
    "# b) Class Variables:\n",
    "\n",
    "# i) If the assignment statement is intended to define a class variable, it should typically use the class name to define the \n",
    "#      variable. For example, self.class_variable inside a method or ClassName.class_variable outside any method.\n",
    "# ii) Class variables are shared among all instances of the class and the class itself. Modifying a class variable through any \n",
    "#     instance or the class itself affects all other instances and the class."
   ]
  },
  {
   "cell_type": "markdown",
   "id": "412e32d0",
   "metadata": {},
   "source": [
    "# 3."
   ]
  },
  {
   "cell_type": "code",
   "execution_count": 3,
   "id": "a9587fa2",
   "metadata": {},
   "outputs": [],
   "source": [
    "# In object-oriented programming, subclasses inherit properties and functionalities from their parent classes. The __init__ method,\n",
    "#  also called the constructor, plays a vital role in initializing an object's state.\n",
    "\n",
    "# There are two main reasons why a subclass in many languages (like Python) needs to manually call the superclass's \n",
    "#  __init__ method:\n",
    "\n",
    "# a) Proper Initialization: The superclass's __init__ might  initialize attributes (variables) that the subclass relies on. \n",
    "#     By calling it explicitly, you ensure the subclass instance gets a fully formed foundation from the parent class. \n",
    "#     If we forget to call it, these attributes might not be set correctly, leading to unexpected behavior or errors.\n",
    "\n",
    "# b) Code Maintainability and Readability:  When we subclass, it's often because you want to extend the functionality of the\n",
    "#     parent class.  Explicitly calling super().__init__ (or the equivalent in your language) makes the code clear and easier \n",
    "#     to understand for others (and future you!). It shows that the subclass acknowledges its inheritance and builds upon the \n",
    "#     existing initialization process."
   ]
  },
  {
   "cell_type": "markdown",
   "id": "a7d0ecc0",
   "metadata": {},
   "source": [
    "# 4."
   ]
  },
  {
   "cell_type": "code",
   "execution_count": 4,
   "id": "86fa7472",
   "metadata": {},
   "outputs": [
    {
     "name": "stdout",
     "output_type": "stream",
     "text": [
      "Default implementation in MyBaseClass\n"
     ]
    }
   ],
   "source": [
    "# In Python, we can augment (or extend) an inherited method from a base class without completely replacing it by using method \n",
    "#  overriding and the super() function. Method overriding allows you to provide a new implementation for a method in the \n",
    "#  subclass while still retaining the functionality of the superclass method. \n",
    "\n",
    "# Here's how you can do it:\n",
    "\n",
    "# a) Define the Base Class (Superclass):\n",
    "#     First, define the base class with the method you want to augment. This method will serve as the default implementation.\n",
    "\n",
    "#example:\n",
    "class MyBaseClass:\n",
    "    def some_method(self):\n",
    "        print(\"Default implementation in MyBaseClass\")\n",
    "\n",
    "base_obj = MyBaseClass()\n",
    "base_obj.some_method() "
   ]
  },
  {
   "cell_type": "code",
   "execution_count": 5,
   "id": "880f3617",
   "metadata": {},
   "outputs": [
    {
     "name": "stdout",
     "output_type": "stream",
     "text": [
      "Default implementation in MyBaseClass\n",
      "Additional functionality in MyDerivedClass\n"
     ]
    }
   ],
   "source": [
    "# b) Define the Subclass (Derived Class):\n",
    "#     Create a subclass that inherits from the base class and overrides the method you want to augment. Within the overridden \n",
    "#     method, we can call super() to invoke the superclass method and then add your additional functionality.\n",
    "    \n",
    "# example:\n",
    "class MyDerivedClass(MyBaseClass):\n",
    "    def some_method(self):\n",
    "        super().some_method()  # Call the superclass method\n",
    "        print(\"Additional functionality in MyDerivedClass\")\n",
    "\n",
    "derived_obj = MyDerivedClass()\n",
    "derived_obj.some_method()"
   ]
  },
  {
   "cell_type": "markdown",
   "id": "98608f4f",
   "metadata": {},
   "source": [
    "# 5."
   ]
  },
  {
   "cell_type": "code",
   "execution_count": 6,
   "id": "f33e082d",
   "metadata": {},
   "outputs": [
    {
     "name": "stdout",
     "output_type": "stream",
     "text": [
      "10\n"
     ]
    },
    {
     "ename": "NameError",
     "evalue": "name 'x' is not defined",
     "output_type": "error",
     "traceback": [
      "\u001b[1;31m---------------------------------------------------------------------------\u001b[0m",
      "\u001b[1;31mNameError\u001b[0m                                 Traceback (most recent call last)",
      "Cell \u001b[1;32mIn[6], line 18\u001b[0m\n\u001b[0;32m     15\u001b[0m     \u001b[38;5;28mprint\u001b[39m(x)\n\u001b[0;32m     17\u001b[0m my_function()  \u001b[38;5;66;03m# Output: 10\u001b[39;00m\n\u001b[1;32m---> 18\u001b[0m \u001b[38;5;28mprint\u001b[39m(x)\n",
      "\u001b[1;31mNameError\u001b[0m: name 'x' is not defined"
     ]
    }
   ],
   "source": [
    "# The concept of scope applies to where variables are accessible in your code. \n",
    "\n",
    "# Diffrence between classes and functions local scope:\n",
    "\n",
    "# a) Local Scope in Functions:\n",
    "\n",
    "# i) A function defines its own local scope, which encompasses the code block within the function's curly braces {}.\n",
    "# ii) Variables declared inside a function are only accessible within that function. They are invisible and cannot be used \n",
    "#     from outside the function.\n",
    "# iii)This helps prevent naming conflicts with variables in other parts of your program.\n",
    "\n",
    "#example:\n",
    "def my_function():\n",
    "    x = 10  # Local variable\n",
    "    print(x)\n",
    "\n",
    "my_function()  # Output: 10\n",
    "print(x)  # This will raise a NameError because 'x' is not defined outside the function"
   ]
  },
  {
   "cell_type": "code",
   "execution_count": 7,
   "id": "38ca54d6",
   "metadata": {},
   "outputs": [
    {
     "name": "stdout",
     "output_type": "stream",
     "text": [
      "10\n"
     ]
    },
    {
     "ename": "AttributeError",
     "evalue": "'MyClass' object has no attribute 'x'",
     "output_type": "error",
     "traceback": [
      "\u001b[1;31m---------------------------------------------------------------------------\u001b[0m",
      "\u001b[1;31mAttributeError\u001b[0m                            Traceback (most recent call last)",
      "Cell \u001b[1;32mIn[7], line 16\u001b[0m\n\u001b[0;32m     14\u001b[0m obj \u001b[38;5;241m=\u001b[39m MyClass()\n\u001b[0;32m     15\u001b[0m obj\u001b[38;5;241m.\u001b[39mmy_method()  \u001b[38;5;66;03m# Output: 10\u001b[39;00m\n\u001b[1;32m---> 16\u001b[0m \u001b[38;5;28mprint\u001b[39m(obj\u001b[38;5;241m.\u001b[39mx)\n",
      "\u001b[1;31mAttributeError\u001b[0m: 'MyClass' object has no attribute 'x'"
     ]
    }
   ],
   "source": [
    "# b) Local Scope in Classes:\n",
    "\n",
    "# i) A class itself doesn't technically have a local scope. Class definitions create a blueprint for objects.\n",
    "# ii) Variables defined inside a class body but outside of any methods are considered class attributes or member variables.\n",
    "# iii) These variables are accessible to all instances (objects) created from that class.\n",
    "# iv) You can access them using the dot notation object_name.attribute_name.\n",
    "\n",
    "#example:\n",
    "class MyClass:\n",
    "    def my_method(self):\n",
    "        x = 10  # Local variable\n",
    "        print(x)\n",
    "\n",
    "obj = MyClass()\n",
    "obj.my_method()  # Output: 10\n",
    "print(obj.x)  # This will raise an AttributeError because 'x' is not an instance variable"
   ]
  },
  {
   "cell_type": "code",
   "execution_count": null,
   "id": "39e1c8d8",
   "metadata": {},
   "outputs": [],
   "source": []
  }
 ],
 "metadata": {
  "kernelspec": {
   "display_name": "Python 3 (ipykernel)",
   "language": "python",
   "name": "python3"
  },
  "language_info": {
   "codemirror_mode": {
    "name": "ipython",
    "version": 3
   },
   "file_extension": ".py",
   "mimetype": "text/x-python",
   "name": "python",
   "nbconvert_exporter": "python",
   "pygments_lexer": "ipython3",
   "version": "3.11.5"
  }
 },
 "nbformat": 4,
 "nbformat_minor": 5
}
